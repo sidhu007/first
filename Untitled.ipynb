{
 "cells": [
  {
   "cell_type": "code",
   "execution_count": 5,
   "metadata": {},
   "outputs": [
    {
     "name": "stdout",
     "output_type": "stream",
     "text": [
      "only hindi readers :  Keshav shahid palak paooja\n",
      "only english readers :  ashish apoorava kirti\n",
      "total readers are :  Devansh shahid ashish keshav jayati apoorava kirti vaibhav paooja Keshav palak\n",
      "Total are :  11\n"
     ]
    }
   ],
   "source": [
    "hindi={'Keshav','palak','paooja','shahid'}\n",
    "english={'apoorava','jayati','kirti','ashish'}\n",
    "common={'Devansh','vaibhav','keshav','jayati'}\n",
    "print('only hindi readers : ',*hindi.difference(common))\n",
    "print('only english readers : ',*english.difference(common))\n",
    "total=hindi.union(english).union(common)\n",
    "print('total readers are : ',*total)\n",
    "print('Total are : ',len(total))"
   ]
  },
  {
   "cell_type": "code",
   "execution_count": 6,
   "metadata": {
    "collapsed": true
   },
   "outputs": [],
   "source": [
    "bin?"
   ]
  },
  {
   "cell_type": "code",
   "execution_count": null,
   "metadata": {
    "collapsed": true
   },
   "outputs": [],
   "source": []
  }
 ],
 "metadata": {
  "kernelspec": {
   "display_name": "Python 3",
   "language": "python",
   "name": "python3"
  },
  "language_info": {
   "codemirror_mode": {
    "name": "ipython",
    "version": 3
   },
   "file_extension": ".py",
   "mimetype": "text/x-python",
   "name": "python",
   "nbconvert_exporter": "python",
   "pygments_lexer": "ipython3",
   "version": "3.6.3"
  }
 },
 "nbformat": 4,
 "nbformat_minor": 2
}
